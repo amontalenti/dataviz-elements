{
 "metadata": {
  "name": ""
 },
 "nbformat": 3,
 "nbformat_minor": 0,
 "worksheets": [
  {
   "cells": [
    {
     "cell_type": "code",
     "collapsed": false,
     "input": [
      "import pandas as pd\n",
      "import numpy as np\n",
      "import datetime as dt\n",
      "import pymongo\n",
      "import vincent\n",
      "\n",
      "from dateutil.parser import parse as D "
     ],
     "language": "python",
     "metadata": {},
     "outputs": [],
     "prompt_number": 104
    },
    {
     "cell_type": "code",
     "collapsed": false,
     "input": [
      "conn = pymongo.MongoClient()\n",
      "coll = conn[\"parsely_insights\"][\"refdomain_destinations\"]\n",
      "coll.count()"
     ],
     "language": "python",
     "metadata": {},
     "outputs": [
      {
       "metadata": {},
       "output_type": "pyout",
       "prompt_number": 105,
       "text": [
        "188769"
       ]
      }
     ],
     "prompt_number": 105
    },
    {
     "cell_type": "code",
     "collapsed": false,
     "input": [
      "last_run = D(\"2013-08-01\")\n",
      "agg = coll.aggregate([\n",
      "\t{\"$match\": {\"date\": {\"$gte\": last_run-dt.timedelta(days=90), \"$lt\": last_run}}}, \n",
      "\t{\"$group\": \n",
      "\t\t{\t\"_id\": \"$referring_domain\", \n",
      "\t\t\t\"total_pvs\": {\"$sum\": \"$hourly_pvs.total\"}, \n",
      "\t\t\t\"max_daily_pvs\": {\"$max\": \"$hourly_pvs.total\"}\n",
      "\t\t}\n",
      "\t}, \n",
      "\t{\"$sort\": {\"total_pvs\": 1}}])\n",
      "for row in agg[\"result\"]:\n",
      "    row[\"domain\"] = row[\"_id\"]\n",
      "    del row[\"_id\"]"
     ],
     "language": "python",
     "metadata": {},
     "outputs": [],
     "prompt_number": 106
    },
    {
     "cell_type": "code",
     "collapsed": false,
     "input": [
      "df = pd.DataFrame(agg[\"result\"])"
     ],
     "language": "python",
     "metadata": {},
     "outputs": [],
     "prompt_number": 107
    },
    {
     "cell_type": "code",
     "collapsed": false,
     "input": [
      "df"
     ],
     "language": "python",
     "metadata": {},
     "outputs": [
      {
       "html": [
        "<pre>\n",
        "&lt;class 'pandas.core.frame.DataFrame'&gt;\n",
        "Int64Index: 5991 entries, 0 to 5990\n",
        "Data columns (total 3 columns):\n",
        "domain           5991  non-null values\n",
        "max_daily_pvs    5991  non-null values\n",
        "total_pvs        5991  non-null values\n",
        "dtypes: int64(2), object(1)\n",
        "</pre>"
       ],
       "metadata": {},
       "output_type": "pyout",
       "prompt_number": 108,
       "text": [
        "<class 'pandas.core.frame.DataFrame'>\n",
        "Int64Index: 5991 entries, 0 to 5990\n",
        "Data columns (total 3 columns):\n",
        "domain           5991  non-null values\n",
        "max_daily_pvs    5991  non-null values\n",
        "total_pvs        5991  non-null values\n",
        "dtypes: int64(2), object(1)"
       ]
      }
     ],
     "prompt_number": 108
    },
    {
     "cell_type": "code",
     "collapsed": false,
     "input": [
      "r = df.set_index(\"domain\")"
     ],
     "language": "python",
     "metadata": {},
     "outputs": [],
     "prompt_number": 109
    },
    {
     "cell_type": "code",
     "collapsed": false,
     "input": [
      "r.sort(\"total_pvs\", ascending=False)[0:10]"
     ],
     "language": "python",
     "metadata": {},
     "outputs": [
      {
       "html": [
        "<div style=\"max-height:1000px;max-width:1500px;overflow:auto;\">\n",
        "<table border=\"1\" class=\"dataframe\">\n",
        "  <thead>\n",
        "    <tr style=\"text-align: right;\">\n",
        "      <th></th>\n",
        "      <th>max_daily_pvs</th>\n",
        "      <th>total_pvs</th>\n",
        "    </tr>\n",
        "    <tr>\n",
        "      <th>domain</th>\n",
        "      <th></th>\n",
        "      <th></th>\n",
        "    </tr>\n",
        "  </thead>\n",
        "  <tbody>\n",
        "    <tr>\n",
        "      <th>__alldomains__</th>\n",
        "      <td> 29033434</td>\n",
        "      <td> 1951699361</td>\n",
        "    </tr>\n",
        "    <tr>\n",
        "      <th>google.com</th>\n",
        "      <td>  7742740</td>\n",
        "      <td>  484529842</td>\n",
        "    </tr>\n",
        "    <tr>\n",
        "      <th>facebook.com</th>\n",
        "      <td>  5077078</td>\n",
        "      <td>  207234272</td>\n",
        "    </tr>\n",
        "    <tr>\n",
        "      <th>outbrain.com</th>\n",
        "      <td>  2335346</td>\n",
        "      <td>  142184403</td>\n",
        "    </tr>\n",
        "    <tr>\n",
        "      <th>yahoo.com</th>\n",
        "      <td>  2421567</td>\n",
        "      <td>  142003044</td>\n",
        "    </tr>\n",
        "    <tr>\n",
        "      <th>t.co</th>\n",
        "      <td>  1272770</td>\n",
        "      <td>   81033204</td>\n",
        "    </tr>\n",
        "    <tr>\n",
        "      <th>msn.com</th>\n",
        "      <td>  5640795</td>\n",
        "      <td>   65866925</td>\n",
        "    </tr>\n",
        "    <tr>\n",
        "      <th>google.ca</th>\n",
        "      <td>   743435</td>\n",
        "      <td>   49888714</td>\n",
        "    </tr>\n",
        "    <tr>\n",
        "      <th>bing.com</th>\n",
        "      <td>   883385</td>\n",
        "      <td>   44884138</td>\n",
        "    </tr>\n",
        "    <tr>\n",
        "      <th>google.co.uk</th>\n",
        "      <td>   720510</td>\n",
        "      <td>   44093704</td>\n",
        "    </tr>\n",
        "  </tbody>\n",
        "</table>\n",
        "</div>"
       ],
       "metadata": {},
       "output_type": "pyout",
       "prompt_number": 110,
       "text": [
        "                max_daily_pvs   total_pvs\n",
        "domain                                   \n",
        "__alldomains__       29033434  1951699361\n",
        "google.com            7742740   484529842\n",
        "facebook.com          5077078   207234272\n",
        "outbrain.com          2335346   142184403\n",
        "yahoo.com             2421567   142003044\n",
        "t.co                  1272770    81033204\n",
        "msn.com               5640795    65866925\n",
        "google.ca              743435    49888714\n",
        "bing.com               883385    44884138\n",
        "google.co.uk           720510    44093704"
       ]
      }
     ],
     "prompt_number": 110
    },
    {
     "cell_type": "code",
     "collapsed": false,
     "input": [
      "r"
     ],
     "language": "python",
     "metadata": {},
     "outputs": [
      {
       "html": [
        "<pre>\n",
        "&lt;class 'pandas.core.frame.DataFrame'&gt;\n",
        "Index: 5991 entries, startlap.hu to __alldomains__\n",
        "Data columns (total 2 columns):\n",
        "max_daily_pvs    5991  non-null values\n",
        "total_pvs        5991  non-null values\n",
        "dtypes: int64(2)\n",
        "</pre>"
       ],
       "metadata": {},
       "output_type": "pyout",
       "prompt_number": 111,
       "text": [
        "<class 'pandas.core.frame.DataFrame'>\n",
        "Index: 5991 entries, startlap.hu to __alldomains__\n",
        "Data columns (total 2 columns):\n",
        "max_daily_pvs    5991  non-null values\n",
        "total_pvs        5991  non-null values\n",
        "dtypes: int64(2)"
       ]
      }
     ],
     "prompt_number": 111
    },
    {
     "cell_type": "code",
     "collapsed": false,
     "input": [
      "# drop out __alldomains__\n",
      "rs = r.sort(\"total_pvs\", ascending=False)[1:]"
     ],
     "language": "python",
     "metadata": {},
     "outputs": [],
     "prompt_number": 112
    },
    {
     "cell_type": "code",
     "collapsed": false,
     "input": [
      "rs"
     ],
     "language": "python",
     "metadata": {},
     "outputs": [
      {
       "html": [
        "<pre>\n",
        "&lt;class 'pandas.core.frame.DataFrame'&gt;\n",
        "Index: 5990 entries, google.com to startlap.hu\n",
        "Data columns (total 2 columns):\n",
        "max_daily_pvs    5990  non-null values\n",
        "total_pvs        5990  non-null values\n",
        "dtypes: int64(2)\n",
        "</pre>"
       ],
       "metadata": {},
       "output_type": "pyout",
       "prompt_number": 113,
       "text": [
        "<class 'pandas.core.frame.DataFrame'>\n",
        "Index: 5990 entries, google.com to startlap.hu\n",
        "Data columns (total 2 columns):\n",
        "max_daily_pvs    5990  non-null values\n",
        "total_pvs        5990  non-null values\n",
        "dtypes: int64(2)"
       ]
      }
     ],
     "prompt_number": 113
    },
    {
     "cell_type": "code",
     "collapsed": false,
     "input": [
      "# unclean data\n",
      "df = pd.DataFrame(agg[\"result\"]).set_index(\"domain\")\n",
      "df.sort(\"total_pvs\").tail(25).total_pvs.plot(kind=\"barh\")"
     ],
     "language": "python",
     "metadata": {},
     "outputs": [
      {
       "metadata": {},
       "output_type": "pyout",
       "prompt_number": 114,
       "text": [
        "<matplotlib.axes.AxesSubplot at 0x52df0d0>"
       ]
      },
      {
       "metadata": {},
       "output_type": "display_data",
       "png": "[encoded data removed]",
       "text": [
        "<matplotlib.figure.Figure at 0x5b68090>"
       ]
      }
     ],
     "prompt_number": 114
    },
    {
     "cell_type": "code",
     "collapsed": false,
     "input": [
      "# \"clean\" data\n",
      "df = pd.DataFrame(agg[\"result\"])\n",
      "google_group = lambda d: \"google sites*\" if \"google\" in d else d\n",
      "customer_list = [\"gawker.com\", \"foxnews.com\", \"discovery.com\", \n",
      "                 \"deadspin.com\", \"gizmodo.com\", \"fitsugar.com\",\n",
      "                 \"kotaku.com\", \"jezebel.com\", \"fabsugar.com\", \n",
      "                 \"jalopnik.com\", \"lifehacker.com\", \"io9.com\",\n",
      "                 \"legacy.com\", \"globaladnetworksolutions.com\",\n",
      "                 \"reuters.com\", \"kinja.com\", \"newrepublic.com\", \n",
      "                 \"accessatlanta.com\", \"bellasugar.com\", \"newyorkpost.com\",\n",
      "                 \"buzzsugar.com\", \"tressugar.com\", \"apartmenttherapy.com\",\n",
      "                 \"yumsugar.com\", \"lilsugar.com\", \"theatlantic.com\"]\n",
      "customer_group = lambda d: \"parse.ly sites*\" if d in customer_list else d\n",
      "news_sites = [\"huffingtonpost.com\", \"bleacherreport.com\", \"cnn.com\", \"comcast.net\", \n",
      "              \"washingtonpost.com\", \"breitbart.com\", \"danarimedia.com\", \"egotastic.com\",\n",
      "              \"pjmedia.com\", \"tmz.com\", \"juno.com\", \"tomopop.com\", \"radaronline.com\",\n",
      "              \"etonline.com\", \"news360.com\", \"hotair.com\", \"fashionologie.com\"]\n",
      "news_group = lambda d: \"news sites*\" if d in news_sites else d\n",
      "com_cleaner = lambda d: d.replace(\".com\", \"\") if \".com\" in d else d\n",
      "df[\"domain\"] = df.domain.apply(google_group)\n",
      "df[\"domain\"] = df.domain.apply(customer_group)\n",
      "df[\"domain\"] = df.domain.apply(news_group)\n",
      "df[\"domain\"] = df.domain.apply(com_cleaner)\n",
      "df[\"domain\"] = df.domain.apply(lambda d: str(d))\n",
      "df[\"domain\"] = df.domain.apply(lambda d: \"twitter\" if d == \"t.co\" else d)"
     ],
     "language": "python",
     "metadata": {},
     "outputs": [],
     "prompt_number": 115
    },
    {
     "cell_type": "code",
     "collapsed": false,
     "input": [
      "rank_list = df.groupby(\"domain\").total_pvs.sum().order().drop(\"__alldomains__\")\n",
      "#rank_list.tail(25).plot(kind=\"barh\")\n",
      "content_discovery = [\"outbrain\", \"stumbleupon\", \"taboola\", \"disqus\", \"zemanta\"]\n",
      "tool = [\"feedly\", \"pulse.me\", \"theoldreader\", \"bloglovin\", \"netvibes\"]\n",
      "social = [\"facebook\", \"twitter\", \"pinterest\", \"linkedin\", \"tumblr\"]\n",
      "search = [\"google sites*\", \"yahoo\", \"bing\", \"ask\"]\n",
      "aggregators = [\"msn\", \"drudgereport\", \"reddit\", \"aol\", \"fark\", \"digg\", \"realclearpolitics\"]\n",
      "portals = [\"aol\", \"msn\"]\n",
      "tail = rank_list.tail(35)\n",
      "#tail = rank_list.tail(30)[]\n",
      "tail.plot(kind=\"barh\", figsize=(10,10))\n",
      "d3_data = list(tail.values)\n",
      "d3_labels = list(tail.index)\n",
      "print \"\"\"\n",
      "var data = {data};\n",
      "var labels = {labels};\n",
      "\"\"\".format(data=d3_data, labels=d3_labels)\n",
      "df.total_pvs.sum()"
     ],
     "language": "python",
     "metadata": {},
     "outputs": [
      {
       "output_type": "stream",
       "stream": "stdout",
       "text": [
        "\n",
        "var data = [1224552, 1245154, 1255879, 1327056, 1623392, 1644731, 1721513, 1958106, 1979864, 2103140, 2130965, 2204872, 2232874, 2398999, 2444288, 2900731, 3115467, 3551294, 4862257, 5800292, 16221780, 16292513, 25222764, 28044525, 30414705, 41297954, 43392393, 44884138, 65866925, 81036278, 125814990, 142003044, 142184403, 207234272, 731236120];\n",
        "var labels = ['kingdigital', 'bloglovin', 'go', 'mywebsearch', 'zemanta', 'blogspot', 'wikipedia.org', 'disqus', 'tumblr', 'tinyurl', 'clickshieldfilter', 'linkedin', 'videostat', 'taboola', 'pulse.me', 'realclearpolitics', 'ask', 'buzzfeed', 'digg', 'fark', 'feedly', 'aol', 'reddit', 'stumbleupon', 'pinterest', 'news sites*', 'drudgereport', 'bing', 'msn', 'twitter', 'parse.ly sites*', 'yahoo', 'outbrain', 'facebook', 'google sites*'];\n",
        "\n"
       ]
      },
      {
       "metadata": {},
       "output_type": "pyout",
       "prompt_number": 116,
       "text": [
        "3865662765"
       ]
      },
      {
       "metadata": {},
       "output_type": "display_data",
       "png": "[encoded data removed]",
       "text": [
        "<matplotlib.figure.Figure at 0x5feb510>"
       ]
      }
     ],
     "prompt_number": 116
    },
    {
     "cell_type": "code",
     "collapsed": false,
     "input": [
      "import vincent\n",
      "vincent.core.initialize_notebook()\n",
      "\n",
      "d3_js_url = \"/files/js/d3.v3.min.js\"\n",
      "vega_js_url = '/files/js/vega.js'\n",
      "\n",
      "def initialize_notebook():\n",
      "    \"\"\"Initialize the iPython notebook display elements\"\"\"\n",
      "    try:\n",
      "        from IPython.core.display import display, HTML, Javascript\n",
      "    except ImportError:\n",
      "        print('iPython Notebook could not be loaded.')\n",
      "\n",
      "    display(HTML('<script src=\"%s\"></script>' % d3_js_url))\n",
      "    display(HTML('<script src=\"%s\"></script>' % vega_js_url))\n",
      "\n",
      "initialize_notebook()"
     ],
     "language": "python",
     "metadata": {},
     "outputs": [
      {
       "html": [
        "<script src=\"http://d3js.org/d3.v3.min.js\"></script>"
       ],
       "metadata": {},
       "output_type": "display_data",
       "text": [
        "<IPython.core.display.HTML at 0x5ff26d0>"
       ]
      },
      {
       "html": [
        "<script src=\"http://trifacta.github.com/vega/vega.js\"></script>"
       ],
       "metadata": {},
       "output_type": "display_data",
       "text": [
        "<IPython.core.display.HTML at 0x5ff26d0>"
       ]
      },
      {
       "html": [
        "<script src=\"/files/js/d3.v3.min.js\"></script>"
       ],
       "metadata": {},
       "output_type": "display_data",
       "text": [
        "<IPython.core.display.HTML at 0x5ff26d0>"
       ]
      },
      {
       "html": [
        "<script src=\"/files/js/vega.js\"></script>"
       ],
       "metadata": {},
       "output_type": "display_data",
       "text": [
        "<IPython.core.display.HTML at 0x5ff26d0>"
       ]
      }
     ],
     "prompt_number": 117
    },
    {
     "cell_type": "code",
     "collapsed": false,
     "input": [
      "outbrain = [1000, 1200, 1300, 1500, 1800, 1900, 2100, 2200, 2300]\n",
      "twitter = [1200, 1800, 1900, 2000, 2100, 2500, 2800, 2900, 3100]\n",
      "facebook = [2400, 2900, 3100, 3500, 3800, 2900, 2800, 3500, 4500]\n",
      "time_frame = pd.DataFrame({\"outbrain\": outbrain, \"twitter\": twitter, \"facebook\": facebook}, \n",
      "                     index=pd.date_range(\"08/01/2013\", \"08/09/2013\"))\n",
      "line = vincent.Line(time_frame)\n",
      "line.legend(title=\"network\")\n",
      "line.display()"
     ],
     "language": "python",
     "metadata": {},
     "outputs": [
      {
       "html": [
        "<div id=\"vis11107\"></div>"
       ],
       "metadata": {},
       "output_type": "display_data",
       "text": [
        "<IPython.core.display.HTML at 0x5b65c50>"
       ]
      },
      {
       "javascript": [
        "vg.parse.spec({\"legends\": [{\"title\": \"network\", \"offset\": 0, \"fill\": \"color\"}], \"scales\": [{\"domain\": {\"field\": \"data.idx\", \"data\": \"table\"}, \"type\": \"time\", \"range\": \"width\", \"name\": \"x\"}, {\"domain\": {\"field\": \"data.val\", \"data\": \"table\"}, \"type\": \"linear\", \"range\": \"height\", \"name\": \"y\", \"nice\": true}, {\"range\": \"category20\", \"type\": \"ordinal\", \"domain\": {\"field\": \"data.col\", \"data\": \"table\"}, \"name\": \"color\"}], \"axes\": [{\"scale\": \"x\", \"type\": \"x\"}, {\"scale\": \"y\", \"type\": \"y\"}], \"height\": 300, \"padding\": {\"top\": 10, \"bottom\": 50, \"right\": 100, \"left\": 50}, \"width\": 500, \"marks\": [{\"type\": \"group\", \"from\": {\"data\": \"table\", \"transform\": [{\"keys\": [\"data.col\"], \"type\": \"facet\"}]}, \"marks\": [{\"type\": \"line\", \"properties\": {\"enter\": {\"y\": {\"field\": \"data.val\", \"scale\": \"y\"}, \"x\": {\"field\": \"data.idx\", \"scale\": \"x\"}, \"stroke\": {\"field\": \"data.col\", \"scale\": \"color\"}, \"strokeWidth\": {\"value\": 2}}}}]}], \"data\": [{\"values\": [{\"val\": 2400, \"col\": \"facebook\", \"idx\": 1375329600000}, {\"val\": 1000, \"col\": \"outbrain\", \"idx\": 1375329600000}, {\"val\": 1200, \"col\": \"twitter\", \"idx\": 1375329600000}, {\"val\": 2900, \"col\": \"facebook\", \"idx\": 1375416000000}, {\"val\": 1200, \"col\": \"outbrain\", \"idx\": 1375416000000}, {\"val\": 1800, \"col\": \"twitter\", \"idx\": 1375416000000}, {\"val\": 3100, \"col\": \"facebook\", \"idx\": 1375502400000}, {\"val\": 1300, \"col\": \"outbrain\", \"idx\": 1375502400000}, {\"val\": 1900, \"col\": \"twitter\", \"idx\": 1375502400000}, {\"val\": 3500, \"col\": \"facebook\", \"idx\": 1375588800000}, {\"val\": 1500, \"col\": \"outbrain\", \"idx\": 1375588800000}, {\"val\": 2000, \"col\": \"twitter\", \"idx\": 1375588800000}, {\"val\": 3800, \"col\": \"facebook\", \"idx\": 1375675200000}, {\"val\": 1800, \"col\": \"outbrain\", \"idx\": 1375675200000}, {\"val\": 2100, \"col\": \"twitter\", \"idx\": 1375675200000}, {\"val\": 2900, \"col\": \"facebook\", \"idx\": 1375761600000}, {\"val\": 1900, \"col\": \"outbrain\", \"idx\": 1375761600000}, {\"val\": 2500, \"col\": \"twitter\", \"idx\": 1375761600000}, {\"val\": 2800, \"col\": \"facebook\", \"idx\": 1375848000000}, {\"val\": 2100, \"col\": \"outbrain\", \"idx\": 1375848000000}, {\"val\": 2800, \"col\": \"twitter\", \"idx\": 1375848000000}, {\"val\": 3500, \"col\": \"facebook\", \"idx\": 1375934400000}, {\"val\": 2200, \"col\": \"outbrain\", \"idx\": 1375934400000}, {\"val\": 2900, \"col\": \"twitter\", \"idx\": 1375934400000}, {\"val\": 4500, \"col\": \"facebook\", \"idx\": 1376020800000}, {\"val\": 2300, \"col\": \"outbrain\", \"idx\": 1376020800000}, {\"val\": 3100, \"col\": \"twitter\", \"idx\": 1376020800000}], \"name\": \"table\"}]}, function(chart) { chart({el:\"#vis11107\"}).update(); });"
       ],
       "metadata": {},
       "output_type": "display_data",
       "text": [
        "<IPython.core.display.Javascript at 0x5b65910>"
       ]
      }
     ],
     "prompt_number": 118
    },
    {
     "cell_type": "code",
     "collapsed": false,
     "input": [
      "sum_frame = pd.DataFrame([sum(outbrain), sum(twitter), sum(facebook)], index=[\"outbrain\", \"twitter\", \"facebook\"])\n",
      "vincent.Bar(sum_frame).display()"
     ],
     "language": "python",
     "metadata": {},
     "outputs": [
      {
       "html": [
        "<div id=\"vis8314\"></div>"
       ],
       "metadata": {},
       "output_type": "display_data",
       "text": [
        "<IPython.core.display.HTML at 0x5ff8c10>"
       ]
      },
      {
       "javascript": [
        "vg.parse.spec({\"legends\": [], \"scales\": [{\"domain\": {\"field\": \"data.idx\", \"data\": \"table\"}, \"type\": \"ordinal\", \"range\": \"width\", \"name\": \"x\"}, {\"domain\": {\"field\": \"data.val\", \"data\": \"table\"}, \"range\": \"height\", \"name\": \"y\", \"nice\": true}], \"axes\": [{\"scale\": \"x\", \"type\": \"x\"}, {\"scale\": \"y\", \"type\": \"y\"}], \"height\": 300, \"padding\": {\"top\": 10, \"bottom\": 50, \"right\": 100, \"left\": 50}, \"width\": 500, \"marks\": [{\"type\": \"rect\", \"from\": {\"data\": \"table\"}, \"properties\": {\"update\": {\"fill\": {\"value\": \"steelblue\"}}, \"enter\": {\"y\": {\"field\": \"data.val\", \"scale\": \"y\"}, \"width\": {\"band\": true, \"scale\": \"x\", \"offset\": -1}, \"y2\": {\"scale\": \"y\", \"value\": 0}, \"x\": {\"field\": \"data.idx\", \"scale\": \"x\"}}}}], \"data\": [{\"values\": [{\"val\": 15300, \"col\": 0, \"idx\": \"outbrain\"}, {\"val\": 20300, \"col\": 0, \"idx\": \"twitter\"}, {\"val\": 29400, \"col\": 0, \"idx\": \"facebook\"}], \"name\": \"table\"}]}, function(chart) { chart({el:\"#vis8314\"}).update(); });"
       ],
       "metadata": {},
       "output_type": "display_data",
       "text": [
        "<IPython.core.display.Javascript at 0x5ff8ed0>"
       ]
      }
     ],
     "prompt_number": 119
    },
    {
     "cell_type": "code",
     "collapsed": false,
     "input": [],
     "language": "python",
     "metadata": {},
     "outputs": []
    }
   ],
   "metadata": {}
  }
 ]
}